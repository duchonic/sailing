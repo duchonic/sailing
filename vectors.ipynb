{
 "cells": [
  {
   "cell_type": "code",
   "execution_count": 1,
   "metadata": {},
   "outputs": [],
   "source": [
    "import numpy as np\n",
    "import math"
   ]
  },
  {
   "cell_type": "code",
   "execution_count": 2,
   "metadata": {},
   "outputs": [],
   "source": [
    "def dotproduct(v1, v2):\n",
    "  return sum((a*b) for a, b in zip(v1, v2))\n",
    "def length(v):\n",
    "  return math.sqrt(dotproduct(v, v))\n",
    "def angle(v1, v2):\n",
    "  return math.acos(dotproduct(v1, v2) / (length(v1) * length(v2)))"
   ]
  },
  {
   "cell_type": "code",
   "execution_count": 3,
   "metadata": {},
   "outputs": [],
   "source": [
    "boats = list()\n",
    "for boatspeed in range(10,30,5):\n",
    "    boats.append( np.array( (boatspeed,0)) )\n",
    "wind = np.array( (0,-20) )"
   ]
  },
  {
   "cell_type": "code",
   "execution_count": 4,
   "metadata": {},
   "outputs": [
    {
     "name": "stdout",
     "output_type": "stream",
     "text": [
      "boat: 10 wind: 20 apparent: 22 angle: 63 win: 2\n",
      "boat: 15 wind: 20 apparent: 25 angle: 53 win: 5\n",
      "boat: 20 wind: 20 apparent: 28 angle: 45 win: 8\n",
      "boat: 25 wind: 20 apparent: 32 angle: 38 win: 12\n"
     ]
    }
   ],
   "source": [
    "for boat in boats:\n",
    "    apparent = boat + wind\n",
    "    print('boat:', int(np.linalg.norm(boat)), \\\n",
    "          'wind:', int(np.linalg.norm(wind)), \\\n",
    "          'apparent:', int(np.linalg.norm(apparent)),\\\n",
    "          'angle:', int(math.degrees(angle(boat, apparent))), \\\n",
    "          'win:',  int(np.linalg.norm(apparent)) - int(np.linalg.norm(wind)))"
   ]
  },
  {
   "cell_type": "code",
   "execution_count": null,
   "metadata": {},
   "outputs": [],
   "source": []
  }
 ],
 "metadata": {
  "kernelspec": {
   "display_name": "Python 3",
   "language": "python",
   "name": "python3"
  },
  "language_info": {
   "codemirror_mode": {
    "name": "ipython",
    "version": 3
   },
   "file_extension": ".py",
   "mimetype": "text/x-python",
   "name": "python",
   "nbconvert_exporter": "python",
   "pygments_lexer": "ipython3",
   "version": "3.7.0"
  }
 },
 "nbformat": 4,
 "nbformat_minor": 2
}
