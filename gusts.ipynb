{
 "cells": [
  {
   "cell_type": "code",
   "execution_count": 1,
   "metadata": {},
   "outputs": [],
   "source": [
    "import numpy as np"
   ]
  },
  {
   "cell_type": "code",
   "execution_count": 2,
   "metadata": {},
   "outputs": [],
   "source": [
    "def calcApparent(wind, boat):\n",
    "    return np.linalg.norm(wind+boat)"
   ]
  },
  {
   "cell_type": "code",
   "execution_count": 3,
   "metadata": {},
   "outputs": [],
   "source": [
    "def calcSpeed(vector):\n",
    "    return int(np.linalg.norm(vector))"
   ]
  },
  {
   "cell_type": "code",
   "execution_count": 4,
   "metadata": {
    "scrolled": true
   },
   "outputs": [
    {
     "name": "stdout",
     "output_type": "stream",
     "text": [
      "wind: 15 kn\n",
      "gust: 10 kn\n",
      "upwind speed: 11 kn\n",
      "downwind speed: 21 kn\n"
     ]
    }
   ],
   "source": [
    "wind = np.array([0,15]); print('wind:', calcSpeed(wind),'kn')\n",
    "gust = np.array([0,10]); print('gust:', calcSpeed(gust),'kn')\n",
    "upwind = np.array([8,8]); print('upwind speed:', calcSpeed(upwind),'kn')\n",
    "downwind = np.array([15,-15]); print('downwind speed:', calcSpeed(downwind),'kn')"
   ]
  },
  {
   "cell_type": "code",
   "execution_count": 5,
   "metadata": {},
   "outputs": [
    {
     "name": "stdout",
     "output_type": "stream",
     "text": [
      "apparent up:   24 kn with gust: 33 kn\n",
      "apparent down: 15 kn with gust: 18 kn\n"
     ]
    }
   ],
   "source": [
    "print('apparent up:  ', int(calcApparent(wind, upwind)),'kn', \\\n",
    "      'with gust:', int(calcApparent(wind+gust, upwind)),'kn')\n",
    "print('apparent down:', int(calcApparent(wind, downwind)),'kn', \\\n",
    "      'with gust:', int(calcApparent(wind+gust, downwind)),'kn')"
   ]
  },
  {
   "cell_type": "code",
   "execution_count": 6,
   "metadata": {},
   "outputs": [
    {
     "name": "stdout",
     "output_type": "stream",
     "text": [
      "increase during gust up  : 1.3943997844424993\n",
      "increase during gust down: 1.2018504251546631\n"
     ]
    }
   ],
   "source": [
    "print('increase during gust up  :', \\\n",
    "      calcApparent(wind+gust, upwind) / calcApparent(wind, upwind))\n",
    "print('increase during gust down:', \\\n",
    "      calcApparent(wind+gust, downwind) / calcApparent(wind, downwind))"
   ]
  }
 ],
 "metadata": {
  "kernelspec": {
   "display_name": "Python 3",
   "language": "python",
   "name": "python3"
  },
  "language_info": {
   "codemirror_mode": {
    "name": "ipython",
    "version": 3
   },
   "file_extension": ".py",
   "mimetype": "text/x-python",
   "name": "python",
   "nbconvert_exporter": "python",
   "pygments_lexer": "ipython3",
   "version": "3.7.0"
  }
 },
 "nbformat": 4,
 "nbformat_minor": 2
}
