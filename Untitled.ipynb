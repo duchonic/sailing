{
 "cells": [
  {
   "cell_type": "code",
   "execution_count": 121,
   "metadata": {},
   "outputs": [],
   "source": [
    "import numpy as np"
   ]
  },
  {
   "cell_type": "code",
   "execution_count": 122,
   "metadata": {},
   "outputs": [],
   "source": [
    "def calcApparent(wind, boat):\n",
    "    return(int(np.linalg.norm(wind+boat)))"
   ]
  },
  {
   "cell_type": "code",
   "execution_count": null,
   "metadata": {},
   "outputs": [],
   "source": [
    "def calcSpeed()"
   ]
  },
  {
   "cell_type": "code",
   "execution_count": 135,
   "metadata": {},
   "outputs": [
    {
     "name": "stdout",
     "output_type": "stream",
     "text": [
      "wind: 15.0\n",
      "gust: 5.0\n",
      "upwind speed: 12.206555615733702\n",
      "downwind speed: 21.213203435596427\n"
     ]
    }
   ],
   "source": [
    "wind = np.array([0,15])\n",
    "gust = np.array([0,5])\n",
    "upwind = np.array([10,7])\n",
    "downwind = np.array([15,-15])\n",
    "print('wind:', np.linalg.norm(wind))\n",
    "print('gust:', np.linalg.norm(gust))\n",
    "print('upwind speed:', np.linalg.norm(upwind))\n",
    "print('downwind speed:', np.linalg.norm(downwind))"
   ]
  },
  {
   "cell_type": "code",
   "execution_count": 130,
   "metadata": {},
   "outputs": [],
   "source": [
    "appUp = calcApparent(wind, upwind)\n",
    "appUpGust = calcApparent(wind+gust, upwind)"
   ]
  },
  {
   "cell_type": "code",
   "execution_count": 131,
   "metadata": {},
   "outputs": [],
   "source": [
    "appDown = calcApparent(wind, downwind)\n",
    "appDownGust = calcApparent(wind+gust, downwind)"
   ]
  },
  {
   "cell_type": "code",
   "execution_count": 132,
   "metadata": {},
   "outputs": [
    {
     "name": "stdout",
     "output_type": "stream",
     "text": [
      "apparent Upwind: 24 with gust: 28\n",
      "apparent Downwind: 15 with gust: 15\n"
     ]
    }
   ],
   "source": [
    "print('apparent Upwind:',appUp,'with gust:', appUpGust)\n",
    "print('apparent Downwind:', appDown, 'with gust:', appDownGust)"
   ]
  },
  {
   "cell_type": "code",
   "execution_count": 133,
   "metadata": {},
   "outputs": [
    {
     "data": {
      "text/plain": [
       "1.1666666666666667"
      ]
     },
     "execution_count": 133,
     "metadata": {},
     "output_type": "execute_result"
    }
   ],
   "source": [
    "appUpGust / appUp"
   ]
  },
  {
   "cell_type": "code",
   "execution_count": 134,
   "metadata": {},
   "outputs": [
    {
     "data": {
      "text/plain": [
       "1.0"
      ]
     },
     "execution_count": 134,
     "metadata": {},
     "output_type": "execute_result"
    }
   ],
   "source": [
    "appDownGust / appDown"
   ]
  },
  {
   "cell_type": "code",
   "execution_count": null,
   "metadata": {},
   "outputs": [],
   "source": []
  },
  {
   "cell_type": "code",
   "execution_count": null,
   "metadata": {},
   "outputs": [],
   "source": []
  }
 ],
 "metadata": {
  "kernelspec": {
   "display_name": "Python 3",
   "language": "python",
   "name": "python3"
  },
  "language_info": {
   "codemirror_mode": {
    "name": "ipython",
    "version": 3
   },
   "file_extension": ".py",
   "mimetype": "text/x-python",
   "name": "python",
   "nbconvert_exporter": "python",
   "pygments_lexer": "ipython3",
   "version": "3.7.0"
  }
 },
 "nbformat": 4,
 "nbformat_minor": 2
}
